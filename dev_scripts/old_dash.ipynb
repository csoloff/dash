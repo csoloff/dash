{
 "cells": [
  {
   "cell_type": "code",
   "execution_count": 1,
   "metadata": {},
   "outputs": [],
   "source": [
    "import pandas as pd\n",
    "import numpy as np\n",
    "from matplotlib import pyplot as plt\n",
    "import glob\n",
    "import matplotlib.dates as mdates\n",
    "from datetime import datetime\n",
    "from tqdm import tqdm\n",
    "\n",
    "# define functions\n",
    "\n",
    "def reader(path, first_var, hours = 0):\n",
    "    '''\n",
    "    Reads SEMS/DASH data, adds datetime columns\n",
    "\n",
    "    :param path: path to data file\n",
    "    :param first_var: the name of the first column label\n",
    "    :return: pandas DataFrame\n",
    "    '''\n",
    "    # Open the file and read the lines\n",
    "    skip=1\n",
    "    with open(path, \"r\") as file:\n",
    "        # Iterate over the lines\n",
    "        for line in file:\n",
    "            # Strip leading and trailing whitespace\n",
    "            line = line.strip()\n",
    "            # Check if the line contains column names\n",
    "            if line.startswith(first_var):\n",
    "                # Split the line by whitespace and append to the columns list\n",
    "                columns = line[1:].strip().split(\"\\t\")\n",
    "                break  # Stop reading lines after finding column names\n",
    "            skip+=1\n",
    "    # Read the data into a DataFrame, skipping the first 6 rows of comments\n",
    "    d = pd.read_csv(path, sep='\\t', skiprows=skip, names=columns)\n",
    "\n",
    "    # Creates datetime columns\n",
    "    year = '20'+str(path[30:32])+'-1-1'\n",
    "    if 'DOY.Frac' in d.keys():\n",
    "        d['dt'] = pd.to_datetime(year) + pd.to_timedelta(d['DOY.Frac'], unit='D') - pd.Timedelta(days=1, hours = hours)\n",
    "    if 'StartTimeSt' in d.keys():\n",
    "        d['st_dt'] = pd.to_datetime(year) + pd.to_timedelta(d['StartTimeSt'], unit='D') - pd.Timedelta(days=1, hours = hours)\n",
    "    if 'EndTimeSt' in d.keys():\n",
    "        d['end_dt'] = pd.to_datetime(year) + pd.to_timedelta(d['EndTimeSt'], unit='D') - pd.Timedelta(days=1, hours = hours)\n",
    "    return d\n",
    "\n",
    "def glob_reader(file_key, first_var, subfolder = './data/', hours = 0):\n",
    "    '''\n",
    "    Reads groups of data files and merges them into one\n",
    "\n",
    "    :param file_key: shared key in filenames\n",
    "    :param first_var: the name of the first column label\n",
    "    :param subfolder: name of the subfolder containing the data\n",
    "    :return: pandas DataFrame\n",
    "    '''\n",
    "    paths = sorted(glob.glob(subfolder+'*'+file_key+'*'))\n",
    "    d = []\n",
    "    for i in range(0, len(paths)):\n",
    "        d.append(reader(paths[i], first_var, hours=hours))\n",
    "    d = pd.concat(d).reset_index()\n",
    "    return d\n",
    "\n",
    "def icr_read(path):\n",
    "    # path to data -> pandas DataFrame with time columns converted to date time\n",
    "    with open(path) as f:\n",
    "        # find the value in the file which tells you how many lines to skip to get to the table\n",
    "        first_line = f.readline()\n",
    "        header_line = int(first_line[0:-2].split(\",\")[0])-1\n",
    "    data = pd.read_csv(path, sep=',', skiprows=header_line)\n",
    "\n",
    "    # finds the location in the path containing the date\n",
    "    acc = 0\n",
    "    boo = False\n",
    "    for letter in path:\n",
    "        if letter == '2':\n",
    "            boo = True\n",
    "        elif boo and letter == '0':\n",
    "            acc -= 1\n",
    "            break\n",
    "        acc += 1\n",
    "        \n",
    "    # creates datetime object with the date the data was collected\n",
    "    dt = datetime(int(path[acc:acc+4]), int(path[acc+4:acc+6]), int(path[acc+6:acc+8])) \n",
    "    \n",
    "    for column in data.keys():\n",
    "        if 'UTC' in column:\n",
    "            # converts seconds after midnight columns to datetime\n",
    "            data[column] = dt + pd.to_timedelta(data[column], unit='seconds')\n",
    "    data.columns = data.columns.str.replace(' ', '')\n",
    "    return data.replace(-9999, np.NaN) # Converts -9999 values to NaN\n",
    "\n",
    "def glob_icr_reader(file_key, subfolder = './data/'):\n",
    "    '''\n",
    "    Reads groups of data files and merges them into one\n",
    "\n",
    "    :param file_key: shared key in filenames\n",
    "    :param first_var: the name of the first column label\n",
    "    :param subfolder: name of the subfolder containing the data\n",
    "    :return: pandas DataFrame\n",
    "    '''\n",
    "    paths = sorted(glob.glob(subfolder+'*'+file_key+'*'))\n",
    "    d = []\n",
    "    for i in range(0, len(paths)):\n",
    "        d.append(icr_read(paths[i]))\n",
    "    d = pd.concat(d).reset_index()\n",
    "    return d"
   ]
  },
  {
   "cell_type": "code",
   "execution_count": 2,
   "metadata": {},
   "outputs": [],
   "source": [
    "all_d = glob_reader('*DASH_BIN_CNT*', '#StartTimeSt', subfolder='../data/old_dash/', hours = -7)"
   ]
  },
  {
   "cell_type": "code",
   "execution_count": 3,
   "metadata": {},
   "outputs": [],
   "source": [
    "DC3_sum = glob_icr_reader('*DC3-dc8Hskping_DC8*', subfolder='../data/old_dash/')"
   ]
  },
  {
   "cell_type": "code",
   "execution_count": 4,
   "metadata": {},
   "outputs": [],
   "source": [
    "DC3_dash = glob_icr_reader('*DC3-DASH*', subfolder='../data/old_dash/')"
   ]
  },
  {
   "cell_type": "code",
   "execution_count": 5,
   "metadata": {},
   "outputs": [
    {
     "name": "stderr",
     "output_type": "stream",
     "text": [
      "100%|██████████| 8028/8028 [00:49<00:00, 162.02it/s]\n"
     ]
    }
   ],
   "source": [
    "sum_mean = pd.DataFrame(columns=DC3_sum.keys())\n",
    "sd_mean = pd.DataFrame(columns=all_d.keys())\n",
    "for i in tqdm(range(0,len(DC3_dash))):\n",
    "    row = DC3_dash.iloc[i]\n",
    "    t_start = row['UTC_Start_time']\n",
    "    t_stop = row['UTC_Stop_time']\n",
    "    sd_mean.loc[len(sd_mean)] = all_d[(all_d['st_dt'] > t_start) & (all_d['end_dt'] < t_stop)].sum(numeric_only=True)\n",
    "    sum_mean.loc[len(sum_mean)] = DC3_sum[(DC3_sum['Start_UTC'] > t_start) & (DC3_sum['Start_UTC'] < t_stop)].median(numeric_only=True)\n",
    "d = pd.merge(DC3_dash, sum_mean, left_index=True, right_index=True)\n",
    "d = pd.merge(d, sd_mean, left_index=True, right_index=True)"
   ]
  },
  {
   "cell_type": "code",
   "execution_count": 6,
   "metadata": {},
   "outputs": [],
   "source": [
    "columns_with_do_bin = d.filter(like='DO_B').columns\n",
    "d['DO_sum'] = d[columns_with_do_bin].sum(axis=1, skipna=True)\n",
    "d['DO_max'] = d[columns_with_do_bin].max(axis=1, skipna=True)\n",
    "\n",
    "columns_with_ho_bin = d.filter(like='HO_B').columns\n",
    "d['HO_sum'] = d[columns_with_ho_bin].sum(axis=1, skipna=True)\n",
    "d['HO_max'] = d[columns_with_ho_bin].max(axis=1, skipna=True)"
   ]
  },
  {
   "cell_type": "code",
   "execution_count": 7,
   "metadata": {},
   "outputs": [
    {
     "data": {
      "text/plain": [
       "<matplotlib.legend.Legend at 0x14ee15610>"
      ]
     },
     "execution_count": 7,
     "metadata": {},
     "output_type": "execute_result"
    },
    {
     "data": {
      "image/png": "[encoded data removed]",
      "text/plain": [
       "<Figure size 640x480 with 1 Axes>"
      ]
     },
     "metadata": {},
     "output_type": "display_data"
    }
   ],
   "source": [
    "plt.scatter(d['GPS_Altitude'], d['DO_max'], label='Dry', s=4)\n",
    "plt.scatter(d['GPS_Altitude'], d['HO_max'], label='Wet', s=4)\n",
    "#plt.ylim([0,50])\n",
    "plt.xlabel('GPS Altitude [m]')\n",
    "plt.ylabel('Peak Bin Counts')\n",
    "plt.legend()"
   ]
  },
  {
   "cell_type": "code",
   "execution_count": 8,
   "metadata": {},
   "outputs": [
    {
     "data": {
      "text/plain": [
       "Timestamp('2012-06-23 03:11:58')"
      ]
     },
     "execution_count": 8,
     "metadata": {},
     "output_type": "execute_result"
    }
   ],
   "source": [
    "t_start"
   ]
  },
  {
   "cell_type": "code",
   "execution_count": 9,
   "metadata": {},
   "outputs": [
    {
     "data": {
      "text/plain": [
       "Timestamp('2012-06-23 03:12:19')"
      ]
     },
     "execution_count": 9,
     "metadata": {},
     "output_type": "execute_result"
    }
   ],
   "source": [
    "t_stop"
   ]
  },
  {
   "cell_type": "code",
   "execution_count": 10,
   "metadata": {},
   "outputs": [
    {
     "data": {
      "text/plain": [
       "<matplotlib.collections.PathCollection at 0x152428090>"
      ]
     },
     "execution_count": 10,
     "metadata": {},
     "output_type": "execute_result"
    },
    {
     "data": {
      "image/png": "[encoded data removed]",
      "text/plain": [
       "<Figure size 640x480 with 1 Axes>"
      ]
     },
     "metadata": {},
     "output_type": "display_data"
    }
   ],
   "source": [
    "plt.scatter(d['GPS_Altitude'], d['HO_max'], label='Dry', s=4)\n",
    "#plt.ylim([90,95])"
   ]
  },
  {
   "cell_type": "code",
   "execution_count": 11,
   "metadata": {},
   "outputs": [
    {
     "name": "stderr",
     "output_type": "stream",
     "text": [
      "100%|██████████| 19764/19764 [01:42<00:00, 193.12it/s]\n"
     ]
    }
   ],
   "source": [
    "all_d = glob_reader('*DASH_BIN_CNT*', '#StartTimeSt', subfolder='../data/old_dash/', hours = -7)\n",
    "DC3_sum = glob_icr_reader('*SEAC4RS-4STAR-AOD-CWV_DC8_20130806_R2.ict*', subfolder='../data/old_dash/')\n",
    "DC3_dash = glob_icr_reader('*SEAC4RS-DASH-SP_DC8*', subfolder='../data/old_dash/')\n",
    "sum_mean = pd.DataFrame(columns=DC3_sum.keys())\n",
    "sd_mean = pd.DataFrame(columns=all_d.keys())\n",
    "for i in tqdm(range(0,len(DC3_dash))):\n",
    "    row = DC3_dash.iloc[i]\n",
    "    t_start = row['UTC_Start_time']\n",
    "    t_stop = row['UTC_Stop_time']\n",
    "    sd_mean.loc[len(sd_mean)] = all_d[(all_d['st_dt'] > t_start) & (all_d['end_dt'] < t_stop)].sum(numeric_only=True)\n",
    "    sum_mean.loc[len(sum_mean)] = DC3_sum[(DC3_sum['Start_UTC'] > t_start) & (DC3_sum['Start_UTC'] < t_stop)].median(numeric_only=True)\n",
    "d = pd.merge(DC3_dash, sum_mean, left_index=True, right_index=True)\n",
    "d = pd.merge(d, sd_mean, left_index=True, right_index=True)"
   ]
  },
  {
   "cell_type": "code",
   "execution_count": 14,
   "metadata": {},
   "outputs": [
    {
     "data": {
      "text/plain": [
       "['index_x',\n",
       " 'UTC_Start_time',\n",
       " 'UTC_Stop_time',\n",
       " 'UTC_mid_time',\n",
       " 'Dp',\n",
       " 'RH',\n",
       " 'GF',\n",
       " 'index_y',\n",
       " 'Start_UTC',\n",
       " 'Latitude',\n",
       " 'Longitude',\n",
       " 'GPS_alt',\n",
       " 'qual_flag',\n",
       " 'amass_aer',\n",
       " 'T4temp',\n",
       " 'CWV',\n",
       " 'std_CWV',\n",
       " 'AOD0380',\n",
       " 'AOD0452',\n",
       " 'AOD0501',\n",
       " 'AOD0520',\n",
       " 'AOD0532',\n",
       " 'AOD0550',\n",
       " 'AOD0606',\n",
       " 'AOD0620',\n",
       " 'AOD0675',\n",
       " 'AOD0781',\n",
       " 'AOD0865',\n",
       " 'AOD1020',\n",
       " 'AOD1040',\n",
       " 'AOD1064',\n",
       " 'AOD1236',\n",
       " 'AOD1559',\n",
       " 'AOD1627',\n",
       " 'UNCAOD0380',\n",
       " 'UNCAOD0452',\n",
       " 'UNCAOD0501',\n",
       " 'UNCAOD0520',\n",
       " 'UNCAOD0532',\n",
       " 'UNCAOD0550',\n",
       " 'UNCAOD0606',\n",
       " 'UNCAOD0620',\n",
       " 'UNCAOD0675',\n",
       " 'UNCAOD0781',\n",
       " 'UNCAOD0865',\n",
       " 'UNCAOD1020',\n",
       " 'UNCAOD1040',\n",
       " 'UNCAOD1064',\n",
       " 'UNCAOD1236',\n",
       " 'UNCAOD1559',\n",
       " 'UNCAOD1627',\n",
       " 'index',\n",
       " 'StartTimeSt',\n",
       " 'EndTimeSt',\n",
       " 'StartYr',\n",
       " 'EndYr',\n",
       " 'StartSecs',\n",
       " 'EndSecs',\n",
       " 'Samp_Num',\n",
       " 'NumBins',\n",
       " 'DO_Bin0',\n",
       " 'DO_Bin1',\n",
       " 'DO_Bin2',\n",
       " 'DO_Bin3',\n",
       " 'DO_Bin4',\n",
       " 'DO_Bin5',\n",
       " 'DO_Bin6',\n",
       " 'DO_Bin7',\n",
       " 'DO_Bin8',\n",
       " 'DO_Bin9',\n",
       " 'DO_Bin10',\n",
       " 'DO_Bin11',\n",
       " 'DO_Bin12',\n",
       " 'DO_Bin13',\n",
       " 'DO_Bin14',\n",
       " 'DO_Bin15',\n",
       " 'DO_Bin16',\n",
       " 'DO_Bin17',\n",
       " 'DO_Bin18',\n",
       " 'DO_Bin19',\n",
       " 'DO_Bin20',\n",
       " 'DO_Bin21',\n",
       " 'DO_Bin22',\n",
       " 'DO_Bin23',\n",
       " 'DO_Bin24',\n",
       " 'DO_Bin25',\n",
       " 'DO_Bin26',\n",
       " 'DO_Bin27',\n",
       " 'DO_Bin28',\n",
       " 'DO_Bin29',\n",
       " 'DO_Bin30',\n",
       " 'DO_Bin31',\n",
       " 'DO_Bin32',\n",
       " 'DO_Bin33',\n",
       " 'DO_Bin34',\n",
       " 'DO_Bin35',\n",
       " 'DO_Bin36',\n",
       " 'DO_Bin37',\n",
       " 'DO_Bin38',\n",
       " 'DO_Bin39',\n",
       " 'DO_Bin40',\n",
       " 'DO_Bin41',\n",
       " 'DO_Bin42',\n",
       " 'DO_Bin43',\n",
       " 'DO_Bin44',\n",
       " 'DO_Bin45',\n",
       " 'DO_Bin46',\n",
       " 'DO_Bin47',\n",
       " 'DO_Bin48',\n",
       " 'DO_Bin49',\n",
       " 'DO_Bin50',\n",
       " 'DO_Bin51',\n",
       " 'DO_Bin52',\n",
       " 'DO_Bin53',\n",
       " 'DO_Bin54',\n",
       " 'DO_Bin55',\n",
       " 'DO_Bin56',\n",
       " 'DO_Bin57',\n",
       " 'DO_Bin58',\n",
       " 'DO_Bin59',\n",
       " 'HO_Bin0',\n",
       " 'HO_Bin1',\n",
       " 'HO_Bin2',\n",
       " 'HO_Bin3',\n",
       " 'HO_Bin4',\n",
       " 'HO_Bin5',\n",
       " 'HO_Bin6',\n",
       " 'HO_Bin7',\n",
       " 'HO_Bin8',\n",
       " 'HO_Bin9',\n",
       " 'HO_Bin10',\n",
       " 'HO_Bin11',\n",
       " 'HO_Bin12',\n",
       " 'HO_Bin13',\n",
       " 'HO_Bin14',\n",
       " 'HO_Bin15',\n",
       " 'HO_Bin16',\n",
       " 'HO_Bin17',\n",
       " 'HO_Bin18',\n",
       " 'HO_Bin19',\n",
       " 'HO_Bin20',\n",
       " 'HO_Bin21',\n",
       " 'HO_Bin22',\n",
       " 'HO_Bin23',\n",
       " 'HO_Bin24',\n",
       " 'HO_Bin25',\n",
       " 'HO_Bin26',\n",
       " 'HO_Bin27',\n",
       " 'HO_Bin28',\n",
       " 'HO_Bin29',\n",
       " 'HO_Bin30',\n",
       " 'HO_Bin31',\n",
       " 'HO_Bin32',\n",
       " 'HO_Bin33',\n",
       " 'HO_Bin34',\n",
       " 'HO_Bin35',\n",
       " 'HO_Bin36',\n",
       " 'HO_Bin37',\n",
       " 'HO_Bin38',\n",
       " 'HO_Bin39',\n",
       " 'HO_Bin40',\n",
       " 'HO_Bin41',\n",
       " 'HO_Bin42',\n",
       " 'HO_Bin43',\n",
       " 'HO_Bin44',\n",
       " 'HO_Bin45',\n",
       " 'HO_Bin46',\n",
       " 'HO_Bin47',\n",
       " 'HO_Bin48',\n",
       " 'HO_Bin49',\n",
       " 'HO_Bin50',\n",
       " 'HO_Bin51',\n",
       " 'HO_Bin52',\n",
       " 'HO_Bin53',\n",
       " 'HO_Bin54',\n",
       " 'HO_Bin55',\n",
       " 'HO_Bin56',\n",
       " 'HO_Bin57',\n",
       " 'HO_Bin58',\n",
       " 'HO_Bin59',\n",
       " 'st_dt',\n",
       " 'end_dt',\n",
       " 'DO_Bin60',\n",
       " 'HO_Bin60',\n",
       " 'DO_Bin61',\n",
       " 'HO_Bin61',\n",
       " 'DO_sum',\n",
       " 'DO_max',\n",
       " 'HO_sum',\n",
       " 'HO_max']"
      ]
     },
     "execution_count": 14,
     "metadata": {},
     "output_type": "execute_result"
    }
   ],
   "source": [
    "list(d.keys())"
   ]
  },
  {
   "cell_type": "code",
   "execution_count": 18,
   "metadata": {},
   "outputs": [
    {
     "data": {
      "text/plain": [
       "<matplotlib.legend.Legend at 0x152b85a50>"
      ]
     },
     "execution_count": 18,
     "metadata": {},
     "output_type": "execute_result"
    },
    {
     "data": {
      "image/png": "[encoded data removed]",
      "text/plain": [
       "<Figure size 640x480 with 1 Axes>"
      ]
     },
     "metadata": {},
     "output_type": "display_data"
    }
   ],
   "source": [
    "columns_with_do_bin = d.filter(like='DO_B').columns\n",
    "d['DO_sum'] = d[columns_with_do_bin].sum(axis=1, skipna=True)\n",
    "d['DO_max'] = d[columns_with_do_bin].max(axis=1, skipna=True)\n",
    "\n",
    "columns_with_ho_bin = d.filter(like='HO_B').columns\n",
    "d['HO_sum'] = d[columns_with_ho_bin].sum(axis=1, skipna=True)\n",
    "d['HO_max'] = d[columns_with_ho_bin].max(axis=1, skipna=True)\n",
    "plt.scatter(d['GPS_alt'], d['DO_max'], label='Dry', s=4)\n",
    "plt.scatter(d['GPS_alt'], d['HO_max'], label='Wet', s=4)\n",
    "#plt.ylim([0,50])\n",
    "plt.xlabel('GPS Altitude [m]')\n",
    "plt.ylabel('Peak Bin Counts')\n",
    "plt.legend()"
   ]
  }
 ],
 "metadata": {
  "kernelspec": {
   "display_name": "Python 3",
   "language": "python",
   "name": "python3"
  },
  "language_info": {
   "codemirror_mode": {
    "name": "ipython",
    "version": 3
   },
   "file_extension": ".py",
   "mimetype": "text/x-python",
   "name": "python",
   "nbconvert_exporter": "python",
   "pygments_lexer": "ipython3",
   "version": "3.11.1"
  }
 },
 "nbformat": 4,
 "nbformat_minor": 2
}
