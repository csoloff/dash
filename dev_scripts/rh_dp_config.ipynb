{
 "cells": [
  {
   "cell_type": "code",
   "execution_count": 1,
   "metadata": {},
   "outputs": [],
   "source": [
    "import numpy as np"
   ]
  },
  {
   "cell_type": "code",
   "execution_count": 19,
   "metadata": {},
   "outputs": [
    {
     "name": "stdout",
     "output_type": "stream",
     "text": [
      "[ 180.          253.64015159  357.40736945  503.62699649  709.66682076\n",
      " 1000.        ]\n"
     ]
    }
   ],
   "source": [
    "numbers = np.logspace(np.log10(180), np.log10(1000), num=6)\n",
    "print(numbers)"
   ]
  },
  {
   "cell_type": "markdown",
   "metadata": {},
   "source": [
    "180, 250, 350, 500, 700, 1000\n",
    "Dp 180, *200*, 250, 350, *600*, 1000\n",
    "Dp 180, *200*, 250\n",
    "RH 85 80 75 80 85 90\n",
    "RI paper scan Dps only\n",
    "Hygroscopicity paper"
   ]
  }
 ],
 "metadata": {
  "kernelspec": {
   "display_name": "Python 3",
   "language": "python",
   "name": "python3"
  },
  "language_info": {
   "codemirror_mode": {
    "name": "ipython",
    "version": 3
   },
   "file_extension": ".py",
   "mimetype": "text/x-python",
   "name": "python",
   "nbconvert_exporter": "python",
   "pygments_lexer": "ipython3",
   "version": "3.11.1"
  }
 },
 "nbformat": 4,
 "nbformat_minor": 2
}
