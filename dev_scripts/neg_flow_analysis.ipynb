{
 "cells": [
  {
   "cell_type": "code",
   "execution_count": 1,
   "metadata": {},
   "outputs": [],
   "source": [
    "import pandas as pd\n",
    "import numpy as np\n",
    "from matplotlib import pyplot as plt\n",
    "import glob\n",
    "import matplotlib.dates as mdates"
   ]
  },
  {
   "cell_type": "code",
   "execution_count": 2,
   "metadata": {},
   "outputs": [],
   "source": [
    "def reader(path, first_var):\n",
    "    '''\n",
    "    Reads SEMS/DASH data, adds datetime columns\n",
    "\n",
    "    :param path: path to data file\n",
    "    :param first_var: the name of the first column label\n",
    "    :return: pandas DataFrame\n",
    "    '''\n",
    "    # Open the file and read the lines\n",
    "    skip=1\n",
    "    with open(path, \"r\") as file:\n",
    "        # Iterate over the lines\n",
    "        for line in file:\n",
    "            # Strip leading and trailing whitespace\n",
    "            line = line.strip()\n",
    "            # Check if the line contains column names\n",
    "            if line.startswith(first_var):\n",
    "                # Split the line by whitespace and append to the columns list\n",
    "                columns = line[1:].strip().split(\"\\t\")\n",
    "                break  # Stop reading lines after finding column names\n",
    "            skip+=1\n",
    "    # Read the data into a DataFrame, skipping the first 6 rows of comments\n",
    "    d = pd.read_csv(path, sep='\\t', skiprows=skip, names=columns)\n",
    "\n",
    "    # Creates datetime columns\n",
    "    if 'DOY.Frac' in d.keys():\n",
    "        d['dt'] = pd.to_datetime('2024-1-1') + pd.to_timedelta(d['DOY.Frac'], unit='D') - pd.Timedelta(days=1)\n",
    "    if 'StartTimeSt' in d.keys():\n",
    "        d['st_dt'] = pd.to_datetime('2024-1-1') + pd.to_timedelta(d['StartTimeSt'], unit='D') - pd.Timedelta(days=1)\n",
    "    if 'EndTimeSt' in d.keys():\n",
    "        d['end_dt'] = pd.to_datetime('2024-1-1') + pd.to_timedelta(d['EndTimeSt'], unit='D') - pd.Timedelta(days=1)\n",
    "    return d"
   ]
  },
  {
   "cell_type": "code",
   "execution_count": 3,
   "metadata": {},
   "outputs": [],
   "source": [
    "d = pd.read_csv('../tables/nf_240516.csv')"
   ]
  },
  {
   "cell_type": "code",
   "execution_count": 4,
   "metadata": {},
   "outputs": [],
   "source": [
    "d['Start'] = pd.to_datetime(d['Start'])"
   ]
  },
  {
   "cell_type": "code",
   "execution_count": 5,
   "metadata": {},
   "outputs": [],
   "source": [
    "d['End'] = pd.to_datetime(d['End'])"
   ]
  },
  {
   "cell_type": "code",
   "execution_count": 6,
   "metadata": {},
   "outputs": [],
   "source": [
    "sems = reader('/Users/cassidysoloff/Documents/git/dash/data/DASH_test_240516/SEMS_DATA_240516_155540.dat', first_var='#DOY.Frac')"
   ]
  },
  {
   "cell_type": "code",
   "execution_count": 14,
   "metadata": {},
   "outputs": [
    {
     "data": {
      "text/plain": [
       "-0.08178571428571428"
      ]
     },
     "execution_count": 14,
     "metadata": {},
     "output_type": "execute_result"
    }
   ],
   "source": [
    "sems[(sems['dt']>= d.loc[0,'Start']) & (sems['dt'] <= d.loc[0,'End'])]['UpSt_Samp'].mean()"
   ]
  }
 ],
 "metadata": {
  "kernelspec": {
   "display_name": "Python 3",
   "language": "python",
   "name": "python3"
  },
  "language_info": {
   "codemirror_mode": {
    "name": "ipython",
    "version": 3
   },
   "file_extension": ".py",
   "mimetype": "text/x-python",
   "name": "python",
   "nbconvert_exporter": "python",
   "pygments_lexer": "ipython3",
   "version": "3.11.1"
  }
 },
 "nbformat": 4,
 "nbformat_minor": 2
}
