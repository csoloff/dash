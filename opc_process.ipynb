{
 "cells": [
  {
   "cell_type": "code",
   "execution_count": 12,
   "metadata": {},
   "outputs": [],
   "source": [
    "import pandas as pd\n",
    "from matplotlib import pyplot as plt\n",
    "import glob\n",
    "import matplotlib.dates as mdates\n",
    "import numpy as np\n",
    "from datetime import timedelta\n",
    "from tqdm import tqdm"
   ]
  },
  {
   "cell_type": "markdown",
   "metadata": {},
   "source": [
    "Define Functions"
   ]
  },
  {
   "cell_type": "code",
   "execution_count": 13,
   "metadata": {},
   "outputs": [],
   "source": [
    "def reader(path, first_var):\n",
    "    '''\n",
    "    Reads SEMS/DASH data, adds datetime columns\n",
    "\n",
    "    :param path: path to data file\n",
    "    :param first_var: the name of the fir column label\n",
    "    :return: pandas DataFrame\n",
    "    '''\n",
    "    # Open the file and read the lines\n",
    "    skip=1\n",
    "    with open(path, \"r\") as file:\n",
    "        # Iterate over the lines\n",
    "        for line in file:\n",
    "            # rip leading and trailing whitespace\n",
    "            line = line.strip()\n",
    "            # Check if the line contains column names\n",
    "            if line.startswith(first_var):\n",
    "                # Split the line by whitespace and append to the columns list\n",
    "                columns = line[1:].strip().split(\"\\t\")\n",
    "                break\n",
    "            skip+=1\n",
    "    # Read the data into a DataFrame, skipping the first 6 rows of comments\n",
    "    d = pd.read_csv(path, sep='\\t', skiprows=skip, names=columns)\n",
    "    #Check for duplicated metadata, remove metadata rows based on string \"OPC SN\"\n",
    "    if len(d)>0:\n",
    "        if isinstance(d.iloc[0,0], str):\n",
    "            dup_meta = [n for n, i in enumerate(d.iloc[:,0]) if 'OPC SN' in i]\n",
    "            if len(dup_meta) > 0:\n",
    "                for line in dup_meta:\n",
    "                    #Deletes duplicate metadata rows from dataframe\n",
    "                    d.drop(np.arange(line,line+68), inplace = True)\n",
    "                    d = d.apply(pd.to_numeric, errors='ignore')\n",
    "                    \n",
    "    # Creates datetime columns\n",
    "    if 'DOY.Frac' in d.keys():\n",
    "        d['dt'] = pd.to_datetime('2024-1-1') + pd.to_timedelta(d['DOY.Frac'], unit='D') - pd.Timedelta(days=1)\n",
    "    if 'StartTimeSt' in d.keys():\n",
    "        d['st_dt'] = pd.to_datetime('2024-1-1') + pd.to_timedelta(d['StartTimeSt'], unit='D') - pd.Timedelta(days=1)\n",
    "    if 'EndTimeSt' in d.keys():\n",
    "        d['end_dt'] = pd.to_datetime('2024-1-1') + pd.to_timedelta(d['EndTimeSt'], unit='D') - pd.Timedelta(days=1)\n",
    "    if 'YY/MM/DD' and 'HR:MN:SC' in d.keys():\n",
    "        d['dt'] = pd.to_datetime(str(20) + d['YY/MM/DD'] + ' ' + d['HR:MN:SC'], format='%Y/%m/%d %H:%M:%S')\n",
    "    return d"
   ]
  },
  {
   "cell_type": "code",
   "execution_count": 14,
   "metadata": {},
   "outputs": [],
   "source": [
    "def glob_reader(file_key, first_var, subfolder = './data/'):\n",
    "    '''\n",
    "    Reads groups of data files and merges them into one\n",
    "\n",
    "    :param file_key: shared key in filenames\n",
    "    :param first_var: the name of the first column label\n",
    "    :param subfolder: name of the subfolder containing the data\n",
    "    :return: pandas DataFrame\n",
    "    '''\n",
    "    paths = sorted(glob.glob(subfolder+'*'+file_key+'*'))\n",
    "    d = []\n",
    "    for i in range(0, len(paths)):\n",
    "        d.append(reader(paths[i], first_var))\n",
    "    d = pd.concat(d).reset_index()\n",
    "    return d"
   ]
  },
  {
   "cell_type": "code",
   "execution_count": 15,
   "metadata": {},
   "outputs": [],
   "source": [
    "def add_bin_sum(d):\n",
    "    d = d.copy()\n",
    "    col_w_bin = [col for col in d.columns if 'bin' in col]\n",
    "    d['bin_sum'] = d[col_w_bin].sum(numeric_only = True, axis=1)\n",
    "    return d"
   ]
  },
  {
   "cell_type": "code",
   "execution_count": 16,
   "metadata": {},
   "outputs": [],
   "source": [
    "def calc_dNdlogDp(data, bins):\n",
    "    #Calculating dN/dlogDp for OPCs; requires dlogDp to be calculated for bins\n",
    "    dNdlogDp = []\n",
    "    for binN in bins.index[:-1]:\n",
    "        dNdlogDp.append(data[f'bin{binN}']/bins.loc[binN, 'dlogDp'])\n",
    "    dNdlogDp = pd.concat(dNdlogDp, axis = 1)\n",
    "    dNdlogDp.columns = [f'{i}_norm' for i in dNdlogDp.columns]\n",
    "        #Norm = /dlogDp\n",
    "    return dNdlogDp"
   ]
  },
  {
   "cell_type": "code",
   "execution_count": 17,
   "metadata": {},
   "outputs": [],
   "source": [
    "bins = pd.read_csv('./data/DASH_Bins_2023.csv').set_index('BinNum')"
   ]
  },
  {
   "cell_type": "markdown",
   "metadata": {},
   "source": [
    "Read OPC Data"
   ]
  },
  {
   "cell_type": "code",
   "execution_count": 18,
   "metadata": {},
   "outputs": [],
   "source": [
    "def process(path, f_name):\n",
    "    min_counts = 100\n",
    "    dopc = add_bin_sum(glob_reader('OPC_210', '#YY/MM/DD', subfolder = path))\n",
    "    hopc = add_bin_sum(glob_reader('OPC_212', '#YY/MM/DD', subfolder = path))\n",
    "    dash = glob_reader('DASH_FLOW', '#DOY.Frac', subfolder = path)\n",
    "    sems = glob_reader('SEMS_DATA', '#DOY.Frac', subfolder = path)\n",
    "    merged = pd.merge_asof(dash, sems, on='dt')\n",
    "    merged = pd.merge_asof(merged, dopc, on='dt').drop(columns=['index_x'])\n",
    "    merged = pd.merge_asof(merged, hopc, on='dt')\n",
    "    merged_diff = merged[['dt', 'UpSt_Dia', 'HM_RH']].diff()\n",
    "    merged[['dt.diff', 'UpSt_Dia.diff', 'HM_RH.diff']] = merged_diff\n",
    "    col_w_bin = [c for c in merged.columns if 'bin' in c and 'sum' not in c]\n",
    "\n",
    "    new_group = True\n",
    "    start_i = []\n",
    "    end_i = []\n",
    "    for i in range(0,len(merged)):\n",
    "        row = merged.iloc[i]\n",
    "        if new_group:\n",
    "            start_i.append(i)\n",
    "            new_group = False\n",
    "        if abs(row['UpSt_Dia.diff']) > 0:\n",
    "            end_i.append(i)\n",
    "            new_group = True\n",
    "        elif abs(row['HM_RH.diff']) > 5:\n",
    "            end_i.append(i)\n",
    "            new_group = True\n",
    "        if i == len(merged)-1:\n",
    "            if len(start_i) > len(end_i):\n",
    "                end_i.append(i)\n",
    "    col = ['Samp_Num', 'Start_Date_Time_UTC', 'Mid_Date_Time_UTC', 'Stop_Date_Time_UTC', 'Samp_Time_s', 'data_points', 'UpSt_Dia', 'UpSt_Dia_Sdev', 'HM_RH_Av', 'HM_RH_Sdev', 'HO_RH_Av', 'HO_RH_Sdev', 'HO_below_cnts']\n",
    "    comb_bins = []\n",
    "    dopc_labels = []\n",
    "    hopc_labels = []\n",
    "    for i in range(1,73):\n",
    "        if i < 10:\n",
    "            dopc_labels.append('D_Bin0'+str(i))\n",
    "            hopc_labels.append('H_Bin0'+str(i))\n",
    "        else:\n",
    "            dopc_labels.append('D_Bin'+str(i))\n",
    "            hopc_labels.append('H_Bin'+str(i))\n",
    "        \n",
    "        if i < 10:\n",
    "            col.append('DO_Bin0'+str(i))\n",
    "            comb_bins.append('DO_Bin0'+str(i))\n",
    "        else:\n",
    "            col.append('D_Bin'+str(i))\n",
    "            comb_bins.append('D_Bin'+str(i))\n",
    "\n",
    "\n",
    "\n",
    "    for i in range(1,73):\n",
    "        if i < 10:\n",
    "            col.append('HO_Bin0'+str(i))\n",
    "            comb_bins.append('HO_Bin0'+str(i))\n",
    "        else:\n",
    "            col.append('H_Bin'+str(i))\n",
    "            comb_bins.append('H_Bin'+str(i))\n",
    "    output = pd.DataFrame(columns = col)\n",
    "    output = pd.DataFrame(columns = col)\n",
    "    out_acc = 0\n",
    "    data_points = 0\n",
    "    for i in tqdm(range(0,len(start_i))):\n",
    "        subset = merged.iloc[start_i[i]:end_i[i]+1].reset_index()\n",
    "        DO_n_sum = 0\n",
    "        HO_n_sum = 0\n",
    "        dt_start = subset.loc[0,'dt']\n",
    "        s = 0\n",
    "        for j in range(0,len(subset)):\n",
    "            DO_n_sum += subset.loc[j, 'bin_sum_x']\n",
    "            HO_n_sum += subset.loc[j, 'bin_sum_y']\n",
    "            if subset.loc[j, 'dt.diff'] > timedelta(seconds=2):\n",
    "                break\n",
    "            if subset.loc[j, 'dt'] - dt_start > timedelta(minutes=5):\n",
    "                break\n",
    "            if DO_n_sum > min_counts:\n",
    "                output.loc[out_acc, 'Start_Date_Time_UTC'] = subset.loc[s, 'dt']\n",
    "                output.loc[out_acc, 'Stop_Date_Time_UTC'] = subset.loc[j, 'dt']\n",
    "                output.loc[out_acc, 'Mid_Date_Time_UTC'] = subset.loc[s, 'dt']+(subset.loc[j, 'dt']-subset.loc[s, 'dt'])/2\n",
    "                output.loc[out_acc, 'Samp_Time_s'] = (subset.loc[j, 'dt']-subset.loc[s, 'dt']).total_seconds()\n",
    "                \n",
    "                output.loc[out_acc, 'data_points'] = subset.loc[s:j+1, 'UpSt_Dia'].count()\n",
    "                data_points += output.loc[out_acc, 'data_points']\n",
    "\n",
    "                output.loc[out_acc, 'UpSt_Dia'] = subset.loc[s:j+1, 'UpSt_Dia'].mean()\n",
    "                output.loc[out_acc, 'HM_RH_Av'] = subset.loc[s:j+1, 'HM_RH'].mean()\n",
    "                output.loc[out_acc, 'HO_RH_Av'] = subset.loc[s:j+1, 'HO_RH'].mean()\n",
    "\n",
    "                output.loc[out_acc, 'UpSt_Dia_Sdev'] = subset.loc[s:j+1, 'UpSt_Dia'].std()\n",
    "                output.loc[out_acc, 'HM_RH_Sdev'] = subset.loc[s:j+1, 'HM_RH'].std()\n",
    "                output.loc[out_acc, 'HO_RH_Sdev'] = subset.loc[s:j+1, 'HO_RH'].std()\n",
    "\n",
    "                output.loc[out_acc, comb_bins] = list(subset.loc[s:j+1, col_w_bin].sum())\n",
    "                if HO_n_sum > min_counts:\n",
    "                    output.loc[out_acc, 'HO_below_cnts'] = 0\n",
    "                else:\n",
    "                    output.loc[out_acc, 'HO_below_cnts'] = 1\n",
    "                s = j\n",
    "                dt_start = subset.loc[s,'dt']\n",
    "                HO_n_sum = 0\n",
    "                DO_n_sum = 0\n",
    "                out_acc += 1\n",
    "\n",
    "    output = output[output['HM_RH_Sdev']<5]\n",
    "    output = output[output['UpSt_Dia_Sdev']==0]\n",
    "    output = output.drop(columns=['UpSt_Dia_Sdev'])\n",
    "    output['Samp_Num'] = output.reset_index().index+1\n",
    "    output.to_csv('./processed_opc/DASH_SAMP_PARAM_'+f_name+'.csv', index=None)\n",
    "    print('Fraction of data used =', str(round(data_points/len(dopc), 2)))\n",
    "    print('Data with usable GF =', str(len(output[output['HO_below_cnts']==0])/len(output)))\n",
    "\n",
    "    s_t = sorted(list(output['Start_Date_Time_UTC'])+list(output['Stop_Date_Time_UTC']))\n",
    "    fig, axes = plt.subplots(2, figsize=(5, 2.5), sharex='all')\n",
    "\n",
    "    ax=axes[0]\n",
    "\n",
    "    output['Time_Diff'] = output['Mid_Date_Time_UTC'].diff().dt.total_seconds() / 60\n",
    "\n",
    "    # Identify the indices where the time difference is greater than 5 minutes\n",
    "    gap_indices = output.index[output['Time_Diff'] > 5].tolist()\n",
    "\n",
    "    old_i = 0\n",
    "    output_GF = output[output['HO_below_cnts']==0]\n",
    "    c = ['black', 'red']\n",
    "    for i in gap_indices:\n",
    "        ax.plot(output.loc[old_i:i-1,'Mid_Date_Time_UTC'], output.loc[old_i:i-1,'Samp_Time_s'], c='black')\n",
    "        ax.scatter(output_GF.loc[old_i:i-1,'Mid_Date_Time_UTC'], output_GF.loc[old_i:i-1,'Samp_Time_s'], c='lime', s=1, zorder=1000)\n",
    "        ax.set_ylabel('Samp\\nTime [s]\\n', rotation=0, labelpad=40, loc='bottom')\n",
    "        old_i = i\n",
    "\n",
    "    ax=axes[1]\n",
    "    ax.scatter(dopc['dt'], ['Raw']*len(dopc), s=.1)\n",
    "    ax.scatter(s_t, ['Retrieved']*len(s_t), s=.1)\n",
    "    ax.set_ylim(-1,2)\n",
    "    date_format = mdates.DateFormatter('%H')\n",
    "    ax.xaxis.set_major_formatter(date_format)\n",
    "    ax.xaxis.set_major_locator(mdates.HourLocator(interval=1))\n",
    "    ax.set_xlabel('Hour [UTC]')\n",
    "    fig.tight_layout()\n",
    "\n",
    "    return output"
   ]
  },
  {
   "cell_type": "code",
   "execution_count": 19,
   "metadata": {},
   "outputs": [
    {
     "name": "stderr",
     "output_type": "stream",
     "text": [
      "100%|██████████| 26/26 [00:06<00:00,  4.22it/s]"
     ]
    },
    {
     "name": "stdout",
     "output_type": "stream",
     "text": [
      "Fraction of data used = 0.48\n",
      "Data with usable GF = 0.7060367454068242\n"
     ]
    },
    {
     "name": "stderr",
     "output_type": "stream",
     "text": [
      "\n"
     ]
    },
    {
     "data": {
      "image/png": "[encoded data removed]",
      "text/plain": [
       "<Figure size 500x250 with 2 Axes>"
      ]
     },
     "metadata": {},
     "output_type": "display_data"
    }
   ],
   "source": [
    "output = process('./data/DASH-test_fight-2024_05_17/', 'RESAMP_240517')"
   ]
  },
  {
   "cell_type": "code",
   "execution_count": null,
   "metadata": {},
   "outputs": [
    {
     "data": {
      "text/plain": [
       "<AxesSubplot: >"
      ]
     },
     "execution_count": 53,
     "metadata": {},
     "output_type": "execute_result"
    },
    {
     "data": {
      "image/png": "[encoded data removed]",
      "text/plain": [
       "<Figure size 640x480 with 1 Axes>"
      ]
     },
     "metadata": {},
     "output_type": "display_data"
    }
   ],
   "source": [
    "output['Samp_Time_s'].hist(bins=100)"
   ]
  },
  {
   "cell_type": "code",
   "execution_count": null,
   "metadata": {},
   "outputs": [
    {
     "data": {
      "text/plain": [
       "<AxesSubplot: xlabel='Start_Date_Time_UTC', ylabel='Samp_Time_s'>"
      ]
     },
     "execution_count": 54,
     "metadata": {},
     "output_type": "execute_result"
    },
    {
     "data": {
      "image/png": "[encoded data removed]",
      "text/plain": [
       "<Figure size 640x480 with 1 Axes>"
      ]
     },
     "metadata": {},
     "output_type": "display_data"
    }
   ],
   "source": [
    "output.plot.scatter(x='Start_Date_Time_UTC', y='Samp_Time_s')"
   ]
  }
 ],
 "metadata": {
  "kernelspec": {
   "display_name": "Python 3",
   "language": "python",
   "name": "python3"
  },
  "language_info": {
   "codemirror_mode": {
    "name": "ipython",
    "version": 3
   },
   "file_extension": ".py",
   "mimetype": "text/x-python",
   "name": "python",
   "nbconvert_exporter": "python",
   "pygments_lexer": "ipython3",
   "version": "3.11.1"
  }
 },
 "nbformat": 4,
 "nbformat_minor": 2
}
