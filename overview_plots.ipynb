{
 "cells": [
  {
   "cell_type": "code",
   "execution_count": 113,
   "metadata": {},
   "outputs": [],
   "source": [
    "import pandas as pd\n",
    "from datetime import datetime\n",
    "import numpy as np\n",
    "from datetime import timedelta\n",
    "import matplotlib.pyplot as plt\n",
    "import glob as glob"
   ]
  },
  {
   "cell_type": "code",
   "execution_count": 114,
   "metadata": {},
   "outputs": [],
   "source": [
    "def simple_read(path):\n",
    "    # path to data -> pandas DataFrame with time columns converted to date time\n",
    "    with open(path) as f:\n",
    "        # find the value in the file which tells you how many lines to skip to get to the table\n",
    "        first_line = f.readline()\n",
    "        header_line = int(first_line[0:-2].split(\",\")[0])-1\n",
    "    data = pd.read_csv(path, sep=',', skiprows=header_line)\n",
    "\n",
    "    # finds the location in the path containing the date\n",
    "    acc = 0\n",
    "    boo = False\n",
    "    for letter in path:\n",
    "        if letter == '2':\n",
    "            boo = True\n",
    "        elif boo and letter == '0':\n",
    "            acc -= 1\n",
    "            break\n",
    "        acc += 1\n",
    "        \n",
    "    # creates datetime object with the date the data was collected\n",
    "    dt = datetime(int(path[acc:acc+4]), int(path[acc+4:acc+6]), int(path[acc+6:acc+8])) \n",
    "    \n",
    "    for column in data.keys():\n",
    "        if 'Time' in column:\n",
    "            # converts seconds after midnight columns to datetime\n",
    "            data[column] = dt + pd.to_timedelta(data[column], unit='seconds')\n",
    "    data.columns = data.columns.str.replace(' ', '')\n",
    "    return data.replace(-9999, np.NaN) # Converts -9999 values to NaN"
   ]
  },
  {
   "cell_type": "code",
   "execution_count": 115,
   "metadata": {},
   "outputs": [],
   "source": [
    "d_path = sorted(glob.glob('./ict_data/ARCSIX-DASH*'))"
   ]
  },
  {
   "cell_type": "code",
   "execution_count": 116,
   "metadata": {},
   "outputs": [],
   "source": [
    "dash=[]\n",
    "for i in range(0,len(d_path)):\n",
    "    dash.append(simple_read(d_path[i]))"
   ]
  },
  {
   "cell_type": "code",
   "execution_count": 117,
   "metadata": {},
   "outputs": [],
   "source": [
    "d = pd.concat(dash)"
   ]
  },
  {
   "cell_type": "code",
   "execution_count": 118,
   "metadata": {},
   "outputs": [],
   "source": [
    "d = d[(d['RH']>80) & (d['RH']<90)]"
   ]
  },
  {
   "cell_type": "code",
   "execution_count": 119,
   "metadata": {},
   "outputs": [],
   "source": [
    "dp = list(np.sort(d['Dp'].unique()))"
   ]
  },
  {
   "cell_type": "code",
   "execution_count": 139,
   "metadata": {},
   "outputs": [],
   "source": [
    "RI = []\n",
    "RI_len = []\n",
    "for i in range(0, len(dp)):\n",
    "    RI.append(d[d['Dp'] == dp[i]]['RI'].dropna())\n",
    "    RI_len.append(len(RI[i]))\n",
    "\n",
    "GF_len = []\n",
    "GF = []\n",
    "for i in range(0, len(dp)):\n",
    "    GF.append(d[d['Dp'] == dp[i]]['GF'].dropna())\n",
    "    GF_len.append(len(GF[i]))"
   ]
  },
  {
   "cell_type": "code",
   "execution_count": 121,
   "metadata": {},
   "outputs": [],
   "source": [
    "dp_l = []\n",
    "for i in range(0, len(dp)):\n",
    "    dp_l.append(int(dp[i]))"
   ]
  },
  {
   "cell_type": "code",
   "execution_count": 210,
   "metadata": {},
   "outputs": [
    {
     "data": {
      "image/png": "[encoded data removed]",
      "text/plain": [
       "<Figure size 700x400 with 3 Axes>"
      ]
     },
     "metadata": {},
     "output_type": "display_data"
    }
   ],
   "source": [
    "fig,ax = plt.subplots(3, sharex=True, gridspec_kw={'height_ratios': [.3, 1, 1]}, figsize=(7,4))\n",
    "\n",
    "ax[1].boxplot(RI, labels=dp_l, showfliers=False)\n",
    "ax[1].set_ylabel('RI', rotation=0)\n",
    "\n",
    "ax[2].boxplot(GF, labels=dp_l, showfliers=False)\n",
    "ax[2].set_ylabel('GF', rotation=0)\n",
    "ax[2].set_xlabel('D$_p$ [nm]')\n",
    "#ax[2].set_ylim([.4,3.6])\n",
    "\n",
    "x = np.linspace(1,len(dp),len(dp))\n",
    "ax[0].bar(x,RI_len, color='black')\n",
    "ax[0].bar(x, GF_len, color='grey')\n",
    "ax[0].set_yscale('log')\n",
    "ax[0].set_ylabel('N', rotation=0)\n",
    "\n",
    "ax[0].spines['top'].set_visible(False)\n",
    "ax[0].spines['right'].set_visible(False)\n",
    "ax[1].spines['top'].set_visible(False)\n",
    "ax[1].spines['right'].set_visible(False)\n",
    "ax[2].spines['top'].set_visible(False)\n",
    "ax[2].spines['right'].set_visible(False)\n",
    "#ax[0].spines['bottom'].set_visible(False)\n",
    "#ax[0].spines['left'].set_visible(False)\n",
    "\n",
    "\n",
    "for a in ax:\n",
    "    a.yaxis.set_label_coords(-0.1, 0.5)\n",
    "plt.tight_layout()\n",
    "plt.savefig('./figures/ri_gf.png', dpi=500, bbox_inches='tight')"
   ]
  }
 ],
 "metadata": {
  "kernelspec": {
   "display_name": "Python 3",
   "language": "python",
   "name": "python3"
  },
  "language_info": {
   "codemirror_mode": {
    "name": "ipython",
    "version": 3
   },
   "file_extension": ".py",
   "mimetype": "text/x-python",
   "name": "python",
   "nbconvert_exporter": "python",
   "pygments_lexer": "ipython3",
   "version": "3.11.1"
  }
 },
 "nbformat": 4,
 "nbformat_minor": 2
}
